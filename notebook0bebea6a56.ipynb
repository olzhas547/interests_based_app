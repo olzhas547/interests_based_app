{
 "cells": [
  {
   "cell_type": "code",
   "execution_count": 1,
   "id": "3cddade4",
   "metadata": {
    "_cell_guid": "b1076dfc-b9ad-4769-8c92-a6c4dae69d19",
    "_uuid": "8f2839f25d086af736a60e9eeb907d3b93b6e0e5",
    "execution": {
     "iopub.execute_input": "2023-12-03T16:51:26.356384Z",
     "iopub.status.busy": "2023-12-03T16:51:26.356034Z",
     "iopub.status.idle": "2023-12-03T16:51:26.694757Z",
     "shell.execute_reply": "2023-12-03T16:51:26.692927Z"
    },
    "papermill": {
     "duration": 0.351402,
     "end_time": "2023-12-03T16:51:26.697705",
     "exception": false,
     "start_time": "2023-12-03T16:51:26.346303",
     "status": "completed"
    },
    "tags": []
   },
   "outputs": [
    {
     "name": "stdout",
     "output_type": "stream",
     "text": [
      "/kaggle/input/database-for-interests-based-app/users.csv\n",
      "/kaggle/input/database-for-interests-based-app/chats.csv\n"
     ]
    }
   ],
   "source": [
    "# This Python 3 environment comes with many helpful analytics libraries installed\n",
    "# It is defined by the kaggle/python Docker image: https://github.com/kaggle/docker-python\n",
    "# For example, here's several helpful packages to load\n",
    "\n",
    "import numpy as np # linear algebra\n",
    "import pandas as pd # data processing, CSV file I/O (e.g. pd.read_csv)\n",
    "\n",
    "# Input data files are available in the read-only \"../input/\" directory\n",
    "# For example, running this (by clicking run or pressing Shift+Enter) will list all files under the input directory\n",
    "\n",
    "import os\n",
    "for dirname, _, filenames in os.walk('/kaggle/input'):\n",
    "    for filename in filenames:\n",
    "        print(os.path.join(dirname, filename))\n",
    "\n",
    "# You can write up to 20GB to the current directory (/kaggle/working/) that gets preserved as output when you create a version using \"Save & Run All\" \n",
    "# You can also write temporary files to /kaggle/temp/, but they won't be saved outside of the current session"
   ]
  },
  {
   "cell_type": "markdown",
   "id": "0194afdd",
   "metadata": {
    "papermill": {
     "duration": 0.005033,
     "end_time": "2023-12-03T16:51:26.708329",
     "exception": false,
     "start_time": "2023-12-03T16:51:26.703296",
     "status": "completed"
    },
    "tags": []
   },
   "source": [
    "# **Content based recommender**"
   ]
  },
  {
   "cell_type": "markdown",
   "id": "85d36adc",
   "metadata": {
    "papermill": {
     "duration": 0.004973,
     "end_time": "2023-12-03T16:51:26.718579",
     "exception": false,
     "start_time": "2023-12-03T16:51:26.713606",
     "status": "completed"
    },
    "tags": []
   },
   "source": [
    "This Kaggle code performs content-based recommendation for chatrooms based on user interests using TF-IDF and cosine similarity. The code reads chat data from a CSV file, transforms the descriptions into TF-IDF vectors, and computes cosine similarities with a user query. The top similar chatrooms are then displayed in a table with their respective similarity scores. The example query is \"I like reading and discussions\" with the top 10 similar chatrooms."
   ]
  },
  {
   "cell_type": "markdown",
   "id": "9a921ffb",
   "metadata": {
    "papermill": {
     "duration": 0.004956,
     "end_time": "2023-12-03T16:51:26.728816",
     "exception": false,
     "start_time": "2023-12-03T16:51:26.723860",
     "status": "completed"
    },
    "tags": []
   },
   "source": [
    "Import necessary libraries"
   ]
  },
  {
   "cell_type": "code",
   "execution_count": 2,
   "id": "48eb4d4a",
   "metadata": {
    "execution": {
     "iopub.execute_input": "2023-12-03T16:51:26.742719Z",
     "iopub.status.busy": "2023-12-03T16:51:26.742140Z",
     "iopub.status.idle": "2023-12-03T16:51:28.219354Z",
     "shell.execute_reply": "2023-12-03T16:51:28.217237Z"
    },
    "papermill": {
     "duration": 1.487553,
     "end_time": "2023-12-03T16:51:28.222253",
     "exception": false,
     "start_time": "2023-12-03T16:51:26.734700",
     "status": "completed"
    },
    "tags": []
   },
   "outputs": [],
   "source": [
    "from sklearn.metrics.pairwise import cosine_similarity\n",
    "from sklearn.feature_extraction.text import TfidfVectorizer\n",
    "import pandas as pd"
   ]
  },
  {
   "cell_type": "markdown",
   "id": "960003bf",
   "metadata": {
    "papermill": {
     "duration": 0.005063,
     "end_time": "2023-12-03T16:51:28.232909",
     "exception": false,
     "start_time": "2023-12-03T16:51:28.227846",
     "status": "completed"
    },
    "tags": []
   },
   "source": [
    "Load chat data from CSV file"
   ]
  },
  {
   "cell_type": "code",
   "execution_count": 3,
   "id": "ef9532d3",
   "metadata": {
    "execution": {
     "iopub.execute_input": "2023-12-03T16:51:28.245332Z",
     "iopub.status.busy": "2023-12-03T16:51:28.244973Z",
     "iopub.status.idle": "2023-12-03T16:51:28.265085Z",
     "shell.execute_reply": "2023-12-03T16:51:28.263241Z"
    },
    "papermill": {
     "duration": 0.029447,
     "end_time": "2023-12-03T16:51:28.267757",
     "exception": false,
     "start_time": "2023-12-03T16:51:28.238310",
     "status": "completed"
    },
    "tags": []
   },
   "outputs": [],
   "source": [
    "descriptions = pd.read_csv(\"/kaggle/input/database-for-interests-based-app/chats.csv\", sep=\",\")"
   ]
  },
  {
   "cell_type": "markdown",
   "id": "fc238eff",
   "metadata": {
    "papermill": {
     "duration": 0.00511,
     "end_time": "2023-12-03T16:51:28.278493",
     "exception": false,
     "start_time": "2023-12-03T16:51:28.273383",
     "status": "completed"
    },
    "tags": []
   },
   "source": [
    "Initialize TF-IDF vectorizer"
   ]
  },
  {
   "cell_type": "code",
   "execution_count": 4,
   "id": "ed0d1d7b",
   "metadata": {
    "execution": {
     "iopub.execute_input": "2023-12-03T16:51:28.291807Z",
     "iopub.status.busy": "2023-12-03T16:51:28.290990Z",
     "iopub.status.idle": "2023-12-03T16:51:28.296493Z",
     "shell.execute_reply": "2023-12-03T16:51:28.294929Z"
    },
    "papermill": {
     "duration": 0.014935,
     "end_time": "2023-12-03T16:51:28.299153",
     "exception": false,
     "start_time": "2023-12-03T16:51:28.284218",
     "status": "completed"
    },
    "tags": []
   },
   "outputs": [],
   "source": [
    "vectorizer = TfidfVectorizer(\n",
    "    stop_words='english',\n",
    "    binary=False,\n",
    "    ngram_range=(1, 2),\n",
    "    use_idf=False,\n",
    "    norm=None\n",
    ")"
   ]
  },
  {
   "cell_type": "markdown",
   "id": "51adb2e2",
   "metadata": {
    "papermill": {
     "duration": 0.004974,
     "end_time": "2023-12-03T16:51:28.309590",
     "exception": false,
     "start_time": "2023-12-03T16:51:28.304616",
     "status": "completed"
    },
    "tags": []
   },
   "source": [
    "Transform chat descriptions into TF-IDF vectors"
   ]
  },
  {
   "cell_type": "code",
   "execution_count": 5,
   "id": "48609d64",
   "metadata": {
    "execution": {
     "iopub.execute_input": "2023-12-03T16:51:28.322507Z",
     "iopub.status.busy": "2023-12-03T16:51:28.321244Z",
     "iopub.status.idle": "2023-12-03T16:51:28.347645Z",
     "shell.execute_reply": "2023-12-03T16:51:28.346779Z"
    },
    "papermill": {
     "duration": 0.035067,
     "end_time": "2023-12-03T16:51:28.349857",
     "exception": false,
     "start_time": "2023-12-03T16:51:28.314790",
     "status": "completed"
    },
    "tags": []
   },
   "outputs": [],
   "source": [
    "doc_vectors = vectorizer.fit_transform(descriptions['description'])"
   ]
  },
  {
   "cell_type": "code",
   "execution_count": 6,
   "id": "86acdd3c",
   "metadata": {
    "execution": {
     "iopub.execute_input": "2023-12-03T16:51:28.363715Z",
     "iopub.status.busy": "2023-12-03T16:51:28.362822Z",
     "iopub.status.idle": "2023-12-03T16:51:28.370289Z",
     "shell.execute_reply": "2023-12-03T16:51:28.368413Z"
    },
    "papermill": {
     "duration": 0.016871,
     "end_time": "2023-12-03T16:51:28.372981",
     "exception": false,
     "start_time": "2023-12-03T16:51:28.356110",
     "status": "completed"
    },
    "tags": []
   },
   "outputs": [],
   "source": [
    "def comp_description(query, results_number=20):\n",
    "    # Compute cosine similarities between the user query and chat descriptions\n",
    "    q_vector = vectorizer.transform([query])\n",
    "    cosine_similarities = cosine_similarity(q_vector, doc_vectors.toarray())\n",
    "\n",
    "    # Get indices of the top similar chatrooms\n",
    "    top_indices = cosine_similarities.argsort()[0][::-1][:results_number]\n",
    "\n",
    "    # Display the results in a table\n",
    "    results_table = pd.DataFrame({\n",
    "        'Chatroom': descriptions['chatroom'][top_indices],\n",
    "        'Similarity Score': cosine_similarities[0][top_indices]\n",
    "    })\n",
    "\n",
    "    # Display the table\n",
    "    print(\"Top {} similar chatrooms:\".format(results_number))\n",
    "    print(results_table)"
   ]
  },
  {
   "cell_type": "markdown",
   "id": "a52e5063",
   "metadata": {
    "papermill": {
     "duration": 0.005017,
     "end_time": "2023-12-03T16:51:28.383489",
     "exception": false,
     "start_time": "2023-12-03T16:51:28.378472",
     "status": "completed"
    },
    "tags": []
   },
   "source": [
    "Example query"
   ]
  },
  {
   "cell_type": "code",
   "execution_count": 7,
   "id": "3c5e7f4f",
   "metadata": {
    "execution": {
     "iopub.execute_input": "2023-12-03T16:51:28.396569Z",
     "iopub.status.busy": "2023-12-03T16:51:28.395664Z",
     "iopub.status.idle": "2023-12-03T16:51:28.416067Z",
     "shell.execute_reply": "2023-12-03T16:51:28.414385Z"
    },
    "papermill": {
     "duration": 0.029858,
     "end_time": "2023-12-03T16:51:28.418623",
     "exception": false,
     "start_time": "2023-12-03T16:51:28.388765",
     "status": "completed"
    },
    "tags": []
   },
   "outputs": [
    {
     "name": "stdout",
     "output_type": "stream",
     "text": [
      "Top 10 similar chatrooms:\n",
      "                 Chatroom  Similarity Score\n",
      "3               Book Club          0.324443\n",
      "1          Science Lovers          0.196116\n",
      "9             Music Vibes          0.000000\n",
      "8             Gaming Zone          0.000000\n",
      "7      Art and Creativity          0.000000\n",
      "6           Foodies Haven          0.000000\n",
      "5        Fitness Fanatics          0.000000\n",
      "4        Travel Explorers          0.000000\n",
      "2             Movie Buffs          0.000000\n",
      "0  Technology Enthusiasts          0.000000\n"
     ]
    }
   ],
   "source": [
    "comp_description(\"I like reading and discussions\", results_number=10)"
   ]
  },
  {
   "cell_type": "markdown",
   "id": "1b1c1167",
   "metadata": {
    "papermill": {
     "duration": 0.006049,
     "end_time": "2023-12-03T16:51:28.430148",
     "exception": false,
     "start_time": "2023-12-03T16:51:28.424099",
     "status": "completed"
    },
    "tags": []
   },
   "source": [
    "# **Collabarative based recommender**"
   ]
  },
  {
   "cell_type": "markdown",
   "id": "9702f55c",
   "metadata": {
    "papermill": {
     "duration": 0.005339,
     "end_time": "2023-12-03T16:51:28.441463",
     "exception": false,
     "start_time": "2023-12-03T16:51:28.436124",
     "status": "completed"
    },
    "tags": []
   },
   "source": [
    "Collaborative filtering recommendation system using Nearest Neighbors. The dataset consists of user ratings for different chatrooms, and the goal is to provide personalized recommendations for users based on their preferences."
   ]
  },
  {
   "cell_type": "markdown",
   "id": "5b2cc109",
   "metadata": {
    "papermill": {
     "duration": 0.005091,
     "end_time": "2023-12-03T16:51:28.452021",
     "exception": false,
     "start_time": "2023-12-03T16:51:28.446930",
     "status": "completed"
    },
    "tags": []
   },
   "source": [
    "Read the CSV file"
   ]
  },
  {
   "cell_type": "code",
   "execution_count": 8,
   "id": "6825042f",
   "metadata": {
    "execution": {
     "iopub.execute_input": "2023-12-03T16:51:28.465121Z",
     "iopub.status.busy": "2023-12-03T16:51:28.464573Z",
     "iopub.status.idle": "2023-12-03T16:51:28.476612Z",
     "shell.execute_reply": "2023-12-03T16:51:28.475127Z"
    },
    "papermill": {
     "duration": 0.021722,
     "end_time": "2023-12-03T16:51:28.479207",
     "exception": false,
     "start_time": "2023-12-03T16:51:28.457485",
     "status": "completed"
    },
    "tags": []
   },
   "outputs": [],
   "source": [
    "df = pd.read_csv(\"/kaggle/input/database-for-interests-based-app/users.csv\", sep=\",\")"
   ]
  },
  {
   "cell_type": "markdown",
   "id": "0e3f09d0",
   "metadata": {
    "papermill": {
     "duration": 0.004868,
     "end_time": "2023-12-03T16:51:28.489692",
     "exception": false,
     "start_time": "2023-12-03T16:51:28.484824",
     "status": "completed"
    },
    "tags": []
   },
   "source": [
    "Pivot the dataframe to create a user-item matrix"
   ]
  },
  {
   "cell_type": "code",
   "execution_count": 9,
   "id": "29d6af8f",
   "metadata": {
    "execution": {
     "iopub.execute_input": "2023-12-03T16:51:28.502933Z",
     "iopub.status.busy": "2023-12-03T16:51:28.502533Z",
     "iopub.status.idle": "2023-12-03T16:51:28.536257Z",
     "shell.execute_reply": "2023-12-03T16:51:28.535083Z"
    },
    "papermill": {
     "duration": 0.043022,
     "end_time": "2023-12-03T16:51:28.538914",
     "exception": false,
     "start_time": "2023-12-03T16:51:28.495892",
     "status": "completed"
    },
    "tags": []
   },
   "outputs": [],
   "source": [
    "users_pivot = df.pivot_table(index='chatroom_id', columns='user_id', values='rating').fillna(0)"
   ]
  },
  {
   "cell_type": "markdown",
   "id": "cdc5002c",
   "metadata": {
    "papermill": {
     "duration": 0.005023,
     "end_time": "2023-12-03T16:51:28.549885",
     "exception": false,
     "start_time": "2023-12-03T16:51:28.544862",
     "status": "completed"
    },
    "tags": []
   },
   "source": [
    "Convert the user-item matrix to a sparse matrix"
   ]
  },
  {
   "cell_type": "code",
   "execution_count": 10,
   "id": "9be28086",
   "metadata": {
    "execution": {
     "iopub.execute_input": "2023-12-03T16:51:28.562695Z",
     "iopub.status.busy": "2023-12-03T16:51:28.561954Z",
     "iopub.status.idle": "2023-12-03T16:51:28.568714Z",
     "shell.execute_reply": "2023-12-03T16:51:28.567060Z"
    },
    "papermill": {
     "duration": 0.016017,
     "end_time": "2023-12-03T16:51:28.571179",
     "exception": false,
     "start_time": "2023-12-03T16:51:28.555162",
     "status": "completed"
    },
    "tags": []
   },
   "outputs": [],
   "source": [
    "from scipy.sparse import csr_matrix\n",
    "user_item_matrix = csr_matrix(users_pivot.values)"
   ]
  },
  {
   "cell_type": "markdown",
   "id": "faf1b713",
   "metadata": {
    "papermill": {
     "duration": 0.005522,
     "end_time": "2023-12-03T16:51:28.582524",
     "exception": false,
     "start_time": "2023-12-03T16:51:28.577002",
     "status": "completed"
    },
    "tags": []
   },
   "source": [
    "Create a NearestNeighbors model"
   ]
  },
  {
   "cell_type": "code",
   "execution_count": 11,
   "id": "d6322283",
   "metadata": {
    "execution": {
     "iopub.execute_input": "2023-12-03T16:51:28.595908Z",
     "iopub.status.busy": "2023-12-03T16:51:28.594673Z",
     "iopub.status.idle": "2023-12-03T16:51:28.894514Z",
     "shell.execute_reply": "2023-12-03T16:51:28.893303Z"
    },
    "papermill": {
     "duration": 0.308714,
     "end_time": "2023-12-03T16:51:28.896635",
     "exception": false,
     "start_time": "2023-12-03T16:51:28.587921",
     "status": "completed"
    },
    "tags": []
   },
   "outputs": [
    {
     "data": {
      "text/html": [
       "<style>#sk-container-id-1 {color: black;background-color: white;}#sk-container-id-1 pre{padding: 0;}#sk-container-id-1 div.sk-toggleable {background-color: white;}#sk-container-id-1 label.sk-toggleable__label {cursor: pointer;display: block;width: 100%;margin-bottom: 0;padding: 0.3em;box-sizing: border-box;text-align: center;}#sk-container-id-1 label.sk-toggleable__label-arrow:before {content: \"▸\";float: left;margin-right: 0.25em;color: #696969;}#sk-container-id-1 label.sk-toggleable__label-arrow:hover:before {color: black;}#sk-container-id-1 div.sk-estimator:hover label.sk-toggleable__label-arrow:before {color: black;}#sk-container-id-1 div.sk-toggleable__content {max-height: 0;max-width: 0;overflow: hidden;text-align: left;background-color: #f0f8ff;}#sk-container-id-1 div.sk-toggleable__content pre {margin: 0.2em;color: black;border-radius: 0.25em;background-color: #f0f8ff;}#sk-container-id-1 input.sk-toggleable__control:checked~div.sk-toggleable__content {max-height: 200px;max-width: 100%;overflow: auto;}#sk-container-id-1 input.sk-toggleable__control:checked~label.sk-toggleable__label-arrow:before {content: \"▾\";}#sk-container-id-1 div.sk-estimator input.sk-toggleable__control:checked~label.sk-toggleable__label {background-color: #d4ebff;}#sk-container-id-1 div.sk-label input.sk-toggleable__control:checked~label.sk-toggleable__label {background-color: #d4ebff;}#sk-container-id-1 input.sk-hidden--visually {border: 0;clip: rect(1px 1px 1px 1px);clip: rect(1px, 1px, 1px, 1px);height: 1px;margin: -1px;overflow: hidden;padding: 0;position: absolute;width: 1px;}#sk-container-id-1 div.sk-estimator {font-family: monospace;background-color: #f0f8ff;border: 1px dotted black;border-radius: 0.25em;box-sizing: border-box;margin-bottom: 0.5em;}#sk-container-id-1 div.sk-estimator:hover {background-color: #d4ebff;}#sk-container-id-1 div.sk-parallel-item::after {content: \"\";width: 100%;border-bottom: 1px solid gray;flex-grow: 1;}#sk-container-id-1 div.sk-label:hover label.sk-toggleable__label {background-color: #d4ebff;}#sk-container-id-1 div.sk-serial::before {content: \"\";position: absolute;border-left: 1px solid gray;box-sizing: border-box;top: 0;bottom: 0;left: 50%;z-index: 0;}#sk-container-id-1 div.sk-serial {display: flex;flex-direction: column;align-items: center;background-color: white;padding-right: 0.2em;padding-left: 0.2em;position: relative;}#sk-container-id-1 div.sk-item {position: relative;z-index: 1;}#sk-container-id-1 div.sk-parallel {display: flex;align-items: stretch;justify-content: center;background-color: white;position: relative;}#sk-container-id-1 div.sk-item::before, #sk-container-id-1 div.sk-parallel-item::before {content: \"\";position: absolute;border-left: 1px solid gray;box-sizing: border-box;top: 0;bottom: 0;left: 50%;z-index: -1;}#sk-container-id-1 div.sk-parallel-item {display: flex;flex-direction: column;z-index: 1;position: relative;background-color: white;}#sk-container-id-1 div.sk-parallel-item:first-child::after {align-self: flex-end;width: 50%;}#sk-container-id-1 div.sk-parallel-item:last-child::after {align-self: flex-start;width: 50%;}#sk-container-id-1 div.sk-parallel-item:only-child::after {width: 0;}#sk-container-id-1 div.sk-dashed-wrapped {border: 1px dashed gray;margin: 0 0.4em 0.5em 0.4em;box-sizing: border-box;padding-bottom: 0.4em;background-color: white;}#sk-container-id-1 div.sk-label label {font-family: monospace;font-weight: bold;display: inline-block;line-height: 1.2em;}#sk-container-id-1 div.sk-label-container {text-align: center;}#sk-container-id-1 div.sk-container {/* jupyter's `normalize.less` sets `[hidden] { display: none; }` but bootstrap.min.css set `[hidden] { display: none !important; }` so we also need the `!important` here to be able to override the default hidden behavior on the sphinx rendered scikit-learn.org. See: https://github.com/scikit-learn/scikit-learn/issues/21755 */display: inline-block !important;position: relative;}#sk-container-id-1 div.sk-text-repr-fallback {display: none;}</style><div id=\"sk-container-id-1\" class=\"sk-top-container\"><div class=\"sk-text-repr-fallback\"><pre>NearestNeighbors(algorithm=&#x27;brute&#x27;, metric=&#x27;cosine&#x27;)</pre><b>In a Jupyter environment, please rerun this cell to show the HTML representation or trust the notebook. <br />On GitHub, the HTML representation is unable to render, please try loading this page with nbviewer.org.</b></div><div class=\"sk-container\" hidden><div class=\"sk-item\"><div class=\"sk-estimator sk-toggleable\"><input class=\"sk-toggleable__control sk-hidden--visually\" id=\"sk-estimator-id-1\" type=\"checkbox\" checked><label for=\"sk-estimator-id-1\" class=\"sk-toggleable__label sk-toggleable__label-arrow\">NearestNeighbors</label><div class=\"sk-toggleable__content\"><pre>NearestNeighbors(algorithm=&#x27;brute&#x27;, metric=&#x27;cosine&#x27;)</pre></div></div></div></div></div>"
      ],
      "text/plain": [
       "NearestNeighbors(algorithm='brute', metric='cosine')"
      ]
     },
     "execution_count": 11,
     "metadata": {},
     "output_type": "execute_result"
    }
   ],
   "source": [
    "from sklearn.neighbors import NearestNeighbors\n",
    "model_knn = NearestNeighbors(metric='cosine', algorithm='brute')\n",
    "model_knn.fit(user_item_matrix)"
   ]
  },
  {
   "cell_type": "code",
   "execution_count": 12,
   "id": "c991cb20",
   "metadata": {
    "execution": {
     "iopub.execute_input": "2023-12-03T16:51:28.909654Z",
     "iopub.status.busy": "2023-12-03T16:51:28.909254Z",
     "iopub.status.idle": "2023-12-03T16:51:28.915420Z",
     "shell.execute_reply": "2023-12-03T16:51:28.914096Z"
    },
    "papermill": {
     "duration": 0.014812,
     "end_time": "2023-12-03T16:51:28.917254",
     "exception": false,
     "start_time": "2023-12-03T16:51:28.902442",
     "status": "completed"
    },
    "tags": []
   },
   "outputs": [],
   "source": [
    "def get_recommendations(user_id, top_n=5):\n",
    "    user_index = users_pivot.columns.get_loc(user_id)\n",
    "    distances, indices = model_knn.kneighbors(users_pivot.iloc[user_index, :].values.reshape(1, -1), n_neighbors=top_n + 1)\n",
    "    print(f\"Top {top_n} Recommendations for {user_id}:\\n\")\n",
    "    for i in range(1, len(distances.flatten())):\n",
    "        print(f'{i}: {users_pivot.index[indices.flatten()[i]]}, with distance of {distances.flatten()[i]:.4f}')"
   ]
  },
  {
   "cell_type": "markdown",
   "id": "1bb1c844",
   "metadata": {
    "papermill": {
     "duration": 0.00531,
     "end_time": "2023-12-03T16:51:28.928261",
     "exception": false,
     "start_time": "2023-12-03T16:51:28.922951",
     "status": "completed"
    },
    "tags": []
   },
   "source": [
    "Example: Get top 5 recommendations for a specific user_id"
   ]
  },
  {
   "cell_type": "code",
   "execution_count": 13,
   "id": "09acd72e",
   "metadata": {
    "execution": {
     "iopub.execute_input": "2023-12-03T16:51:28.941302Z",
     "iopub.status.busy": "2023-12-03T16:51:28.940924Z",
     "iopub.status.idle": "2023-12-03T16:51:28.951169Z",
     "shell.execute_reply": "2023-12-03T16:51:28.949838Z"
    },
    "papermill": {
     "duration": 0.019412,
     "end_time": "2023-12-03T16:51:28.953432",
     "exception": false,
     "start_time": "2023-12-03T16:51:28.934020",
     "status": "completed"
    },
    "tags": []
   },
   "outputs": [
    {
     "name": "stdout",
     "output_type": "stream",
     "text": [
      "Top 5 Recommendations for user1:\n",
      "\n",
      "1: chatroom9, with distance of 0.0478\n",
      "2: chatroom4, with distance of 0.1526\n",
      "3: chatroom7, with distance of 0.1538\n",
      "4: chatroom5, with distance of 0.1562\n",
      "5: chatroom10, with distance of 0.2509\n"
     ]
    }
   ],
   "source": [
    "get_recommendations(user_id='user1', top_n=5)"
   ]
  }
 ],
 "metadata": {
  "kaggle": {
   "accelerator": "none",
   "dataSources": [
    {
     "datasetId": 4102215,
     "sourceId": 7113739,
     "sourceType": "datasetVersion"
    }
   ],
   "dockerImageVersionId": 30587,
   "isGpuEnabled": false,
   "isInternetEnabled": true,
   "language": "python",
   "sourceType": "notebook"
  },
  "kernelspec": {
   "display_name": "Python 3",
   "language": "python",
   "name": "python3"
  },
  "language_info": {
   "codemirror_mode": {
    "name": "ipython",
    "version": 3
   },
   "file_extension": ".py",
   "mimetype": "text/x-python",
   "name": "python",
   "nbconvert_exporter": "python",
   "pygments_lexer": "ipython3",
   "version": "3.10.12"
  },
  "papermill": {
   "default_parameters": {},
   "duration": 6.007569,
   "end_time": "2023-12-03T16:51:29.579684",
   "environment_variables": {},
   "exception": null,
   "input_path": "__notebook__.ipynb",
   "output_path": "__notebook__.ipynb",
   "parameters": {},
   "start_time": "2023-12-03T16:51:23.572115",
   "version": "2.4.0"
  }
 },
 "nbformat": 4,
 "nbformat_minor": 5
}
